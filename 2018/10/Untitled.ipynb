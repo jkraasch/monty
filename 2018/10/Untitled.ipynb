{
 "cells": [
  {
   "cell_type": "code",
   "execution_count": 1,
   "metadata": {
    "ExecuteTime": {
     "end_time": "2018-06-06T12:54:09.458561Z",
     "start_time": "2018-06-06T12:54:07.448736Z"
    }
   },
   "outputs": [
    {
     "name": "stdout",
     "output_type": "stream",
     "text": [
      "I am executed immediatly!\n",
      "I waited 2 seconds!\n"
     ]
    }
   ],
   "source": [
    "import time\n",
    "\n",
    "print(\"I am executed immediatly!\")\n",
    "time.sleep(2)\n",
    "print(\"I waited 2 seconds!\")"
   ]
  }
 ],
 "metadata": {
  "kernelspec": {
   "display_name": "Python 3",
   "language": "python",
   "name": "python3"
  },
  "language_info": {
   "codemirror_mode": {
    "name": "ipython",
    "version": 3
   },
   "file_extension": ".py",
   "mimetype": "text/x-python",
   "name": "python",
   "nbconvert_exporter": "python",
   "pygments_lexer": "ipython3",
   "version": "3.6.1"
  }
 },
 "nbformat": 4,
 "nbformat_minor": 2
}
