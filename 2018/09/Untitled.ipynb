{
 "cells": [
  {
   "cell_type": "code",
   "execution_count": 14,
   "metadata": {
    "ExecuteTime": {
     "end_time": "2018-05-30T13:31:56.454298Z",
     "start_time": "2018-05-30T13:31:56.444274Z"
    },
    "collapsed": true
   },
   "outputs": [],
   "source": [
    "class Person:\n",
    "    \n",
    "    def __init__(self, surname, firstname, height, age, weight, favorite_colour='blue'):\n",
    "        self.surname = surname\n",
    "        self.firstname = firstname\n",
    "        self.height = height\n",
    "        self.age = age\n",
    "        self.weight = weight\n",
    "        self.favorite_colour = favorite_colour\n",
    "        \n",
    "    def bmi(self):\n",
    "        return self.weight / (self.height**2)\n",
    "\n",
    "    def greet(self, other_person):\n",
    "        print(f\"{self}: I am greeting {other_person}\")\n",
    "        other_person.be_greeted(self)\n",
    "        \n",
    "    def be_greeted(self, other_person):\n",
    "        print(f\"{self}: I am greeted by {other_person}\")\n",
    "    \n",
    "    def __str__(self):\n",
    "        return f\"{self.firstname} {self.surname}\""
   ]
  },
  {
   "cell_type": "code",
   "execution_count": 17,
   "metadata": {
    "ExecuteTime": {
     "end_time": "2018-05-30T13:32:10.464128Z",
     "start_time": "2018-05-30T13:32:10.458140Z"
    }
   },
   "outputs": [
    {
     "name": "stdout",
     "output_type": "stream",
     "text": [
      "Antonia Hain: I am greeting Moritz Nipshagen\n",
      "Moritz Nipshagen: I am greeted by Antonia Hain\n"
     ]
    }
   ],
   "source": [
    "mo = Person('Nipshagen','Moritz',1.81,24,10)\n",
    "antonia = Person('Hain','Antonia',1.63,22,10,'42')\n",
    "\n",
    "\n",
    "antonia.greet(mo)"
   ]
  },
  {
   "cell_type": "code",
   "execution_count": 23,
   "metadata": {
    "ExecuteTime": {
     "end_time": "2018-05-30T13:39:09.020008Z",
     "start_time": "2018-05-30T13:39:09.013991Z"
    },
    "collapsed": true
   },
   "outputs": [],
   "source": [
    "class PartOfUniversity:\n",
    "    \n",
    "    def __init__(self, id_, university_name):\n",
    "        self.id = id_\n",
    "        self.university = university_name\n",
    "        \n",
    "    def belongs_to(self):\n",
    "        return self.university"
   ]
  },
  {
   "cell_type": "code",
   "execution_count": 28,
   "metadata": {
    "ExecuteTime": {
     "end_time": "2018-05-30T13:40:24.948658Z",
     "start_time": "2018-05-30T13:40:24.943644Z"
    },
    "collapsed": true
   },
   "outputs": [],
   "source": [
    "class Student(Person, PartOfUniversity):\n",
    "    \n",
    "    def __init__(self, surname, first_name, height, age, weight, fav_colour, matriculation_number, university):\n",
    "        Person.__init__(self, surname, first_name, height, age, weight, fav_colour)\n",
    "        PartOfUniversity.__init__(self, matriculation_number, university)\n",
    "        \n",
    "    def __str__(self):\n",
    "        return Person.__str__(self) + f\", from {self.university}\""
   ]
  },
  {
   "cell_type": "code",
   "execution_count": 29,
   "metadata": {
    "ExecuteTime": {
     "end_time": "2018-05-30T13:40:25.627646Z",
     "start_time": "2018-05-30T13:40:25.623635Z"
    }
   },
   "outputs": [],
   "source": [
    "antonia = Student('Hain','Antonia',1.63,22,10,'42', 123987, 'Harvard University')"
   ]
  },
  {
   "cell_type": "code",
   "execution_count": 30,
   "metadata": {
    "ExecuteTime": {
     "end_time": "2018-05-30T13:40:26.040788Z",
     "start_time": "2018-05-30T13:40:26.034772Z"
    }
   },
   "outputs": [
    {
     "name": "stdout",
     "output_type": "stream",
     "text": [
      "Moritz Nipshagen: I am greeting Antonia Hain, from Harvard University\n",
      "Antonia Hain, from Harvard University: I am greeted by Moritz Nipshagen\n"
     ]
    }
   ],
   "source": [
    "mo.greet(antonia)"
   ]
  },
  {
   "cell_type": "code",
   "execution_count": 1,
   "metadata": {
    "ExecuteTime": {
     "end_time": "2018-05-30T13:48:33.411676Z",
     "start_time": "2018-05-30T13:48:33.396636Z"
    },
    "collapsed": true
   },
   "outputs": [],
   "source": [
    "class Hangman:\n",
    "    \n",
    "    def __init__(self, word, max_tries):\n",
    "        self.word = word\n",
    "        self.tries = max_tries\n",
    "        self.guessword = ['_' for _ in range(len(self.word))]\n",
    "        self.guesses = []\n",
    "    \n",
    "    def update_guessword(self, guess):\n",
    "        for i, letter in enumerate(self.word):\n",
    "            if letter == guess:\n",
    "                self.guessword[i] = guess\n",
    "        \n",
    "        \n",
    "    def play(self):\n",
    "        while self.tries > 0 and '_' in self.guessword:\n",
    "            print(self.guessword)\n",
    "            print(\"Guesses so far:\", self.guesses)\n",
    "            \n",
    "            guess = input(\"Next guess: \")\n",
    "            if guess in self.word:\n",
    "                self.update_guessword(guess)\n",
    "            else:\n",
    "                self.tries -= 1\n",
    "                self.guesses.append(guess)\n",
    "        \n",
    "        self.end()\n",
    "        \n",
    "    def end(self):\n",
    "        if not '_' in self.guessword:\n",
    "            print(\"You win! Awesome!\")\n",
    "        else:\n",
    "            print(\"You hang. Better luck in your next life!\")"
   ]
  },
  {
   "cell_type": "code",
   "execution_count": 2,
   "metadata": {
    "ExecuteTime": {
     "end_time": "2018-05-30T13:48:36.326829Z",
     "start_time": "2018-05-30T13:48:36.323820Z"
    },
    "collapsed": true
   },
   "outputs": [],
   "source": [
    "game = Hangman(\"lemon\",5)"
   ]
  },
  {
   "cell_type": "code",
   "execution_count": 5,
   "metadata": {
    "ExecuteTime": {
     "end_time": "2018-05-30T13:48:55.998665Z",
     "start_time": "2018-05-30T13:48:55.994654Z"
    }
   },
   "outputs": [
    {
     "name": "stdout",
     "output_type": "stream",
     "text": [
      "You win! Awesome!\n"
     ]
    }
   ],
   "source": [
    "game.play()"
   ]
  },
  {
   "cell_type": "code",
   "execution_count": null,
   "metadata": {
    "collapsed": true
   },
   "outputs": [],
   "source": []
  }
 ],
 "metadata": {
  "kernelspec": {
   "display_name": "Python 3",
   "language": "python",
   "name": "python3"
  },
  "language_info": {
   "codemirror_mode": {
    "name": "ipython",
    "version": 3
   },
   "file_extension": ".py",
   "mimetype": "text/x-python",
   "name": "python",
   "nbconvert_exporter": "python",
   "pygments_lexer": "ipython3",
   "version": "3.6.1"
  }
 },
 "nbformat": 4,
 "nbformat_minor": 2
}
